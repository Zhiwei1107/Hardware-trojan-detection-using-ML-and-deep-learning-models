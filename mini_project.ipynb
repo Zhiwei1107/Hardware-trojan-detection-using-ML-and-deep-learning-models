{
  "nbformat": 4,
  "nbformat_minor": 0,
  "metadata": {
    "colab": {
      "name": "mini_project.ipynb",
      "provenance": []
    },
    "kernelspec": {
      "name": "python3",
      "display_name": "Python 3"
    }
  },
  "cells": [
    {
      "cell_type": "code",
      "metadata": {
        "id": "1I9CoOuOGWqB"
      },
      "source": [
        "import time\n",
        "import sys\n",
        "import itertools\n",
        "import matplotlib.pyplot as plt\n",
        "import numpy as np\n",
        "\n",
        "from sklearn.ensemble import RandomForestClassifier\n",
        "from sklearn.svm import SVC\n",
        "from sklearn.ensemble import GradientBoostingClassifier\n",
        "from sklearn.neighbors import KNeighborsClassifier\n",
        "from sklearn.linear_model import LogisticRegression\n",
        "\n",
        "from sklearn.metrics import accuracy_score\n",
        "from sklearn.metrics import confusion_matrix\n",
        "from sklearn.metrics import f1_score\n",
        "#recall\n",
        "#precision\n",
        "\n",
        "from keras.models import Sequential\n",
        "from keras.layers import Dense\n",
        "\n",
        "from keras.utils import np_utils as npu"
      ],
      "execution_count": null,
      "outputs": []
    },
    {
      "cell_type": "code",
      "metadata": {
        "id": "wfN_8LNa_AsE"
      },
      "source": [
        "import pandas as pd\n",
        "\n",
        "from sklearn.preprocessing import LabelEncoder\n",
        "from sklearn.model_selection import train_test_split\n",
        "from sklearn.preprocessing import MinMaxScaler\n",
        "from sklearn.utils import shuffle\n",
        "\n",
        "import seaborn as sns\n",
        "def create_numerics(data):\n",
        "    # Get nominal columns\n",
        "    nominal_cols = data.select_dtypes(include='object').columns.tolist()\n",
        "\n",
        "    # Turn nominal to numeric\n",
        "    for nom in nominal_cols:\n",
        "        enc = LabelEncoder()\n",
        "        enc.fit(data[nom])\n",
        "        data[nom] = enc.transform(data[nom])\n",
        "        \n",
        "    return data\n",
        "\n",
        "def prepare_data():\n",
        "    data = pd.read_excel(\"data.xlsx\")\n",
        "    data = data.dropna()\n",
        "    \n",
        "    trojan_free = data.loc[data['Label']==\"'Trojan Free'\"].reset_index()    \n",
        "    \n",
        "    # balance the ratio between trojan free and infected of the same circuit category\n",
        "    for i in range(len(trojan_free)):\n",
        "        category_substring = trojan_free['Circuit'][i].replace(\"'\",'')\n",
        "        circuit_group = data[data['Circuit'].str.contains(category_substring)]\n",
        "        \n",
        "        df1 = circuit_group.iloc[0:1]\n",
        "        \n",
        "        if len(circuit_group) > 1:\n",
        "            data = data.append([df1]*(len(circuit_group)-1), ignore_index=True)\n",
        "    \n",
        "    data.drop(columns=['Circuit'], inplace=True)\n",
        "\n",
        "    data = create_numerics(data)\n",
        "    \n",
        "    data = shuffle(data, random_state=42)\n",
        "\n",
        "    # Create correlation matrix\n",
        "    corr_matrix = data.corr().abs()\n",
        "\n",
        "    # Select upper triangle of correlation matrix\n",
        "    upper = corr_matrix.where(np.triu(np.ones(corr_matrix.shape),\n",
        "                                      k=1).astype(np.bool))\n",
        "\n",
        "    # Find index of feature columns with correlation greater than 0.95\n",
        "    to_drop = [column for column in upper.columns if any(upper[column] > 0.95)]\n",
        "\n",
        "    # Drop features\n",
        "    data = data.drop(data[to_drop], axis=1)\n",
        "    \n",
        "    y = pd.DataFrame(data[\"Label\"]).values\n",
        "    x = data.drop([\"Label\"], axis=1)\n",
        "\n",
        "    scaler = MinMaxScaler(feature_range=(0, 1))\n",
        "    x = scaler.fit_transform(x)\n",
        "\n",
        "    x_train, x_test, y_train, y_test = train_test_split(x, y, test_size=0.3, random_state=1)\n",
        "    \n",
        "    return(x_train, x_test, y_train, y_test)"
      ],
      "execution_count": null,
      "outputs": []
    },
    {
      "cell_type": "code",
      "metadata": {
        "id": "TWm3F0z1CHZ8"
      },
      "source": [
        "# test_x and test_y is the data we are getting after preprocessing\n",
        "\n",
        "def create_model(train_x, test_y):\n",
        "    num_classes = test_y.shape[1]\n",
        "\n",
        "    model = Sequential()\n",
        "\n",
        "    model.add(Dense(15, input_dim=train_x.shape[1], activation='relu'))\n",
        "\n",
        "    model.add(Dense(75, activation='relu'))\n",
        "\n",
        "    model.add(Dense(num_classes, activation='softmax'))\n",
        "\n",
        "    model.compile(optimizer='adam', loss='categorical_crossentropy',\n",
        "                  metrics=['mse', 'accuracy'])\n",
        "    return model\n",
        "\n"
      ],
      "execution_count": null,
      "outputs": []
    },
    {
      "cell_type": "code",
      "metadata": {
        "id": "h4sNgINiGQpW"
      },
      "source": [
        "def deep_learning_model1(train_x, test_x, train_y, test_y):\n",
        "    \"\"\"\n",
        "    This function performs multiclass classification with a deep learning model(using multilayer_perceptron)\n",
        "    \"\"\"\n",
        "\n",
        "    labels = test_y\n",
        "\n",
        "    train_y = npu.to_categorical(train_y)\n",
        "    test_y = npu.to_categorical(test_y)\n",
        "    \n",
        "    model = create_model(train_x, test_y)\n",
        "    \n",
        "    start = time.time()\n",
        "    model.fit(train_x, train_y, epochs=50, batch_size=10, shuffle=False)\n",
        "    end = time.time()\n",
        "    \n",
        "    y_pred = model.predict(test_x)\n",
        "    predictions = np.argmax(y_pred, axis=1)\n",
        "\n",
        "    correct_class = 0\n",
        "    for i in range(len(labels)):\n",
        "        if labels[i] == predictions[i]:\n",
        "            correct_class += 1\n",
        "\n",
        "    time_ = end - start\n",
        "    accuracy = (correct_class / len(labels)) * 100\n",
        "\n",
        "    print(\"### Deep Learning Model ###\\n\")\n",
        "    print(\"Training lasted %.2f seconds\" % time_)\n",
        "    print(\"Accuracy = %.2f\" % (accuracy))\n",
        "\n",
        "    return(time_, accuracy)"
      ],
      "execution_count": null,
      "outputs": []
    },
    {
      "cell_type": "code",
      "metadata": {
        "colab": {
          "base_uri": "https://localhost:8080/"
        },
        "id": "MrF1NAZJAoOZ",
        "outputId": "907d521f-3f6d-4769-d87b-2079f575a92e"
      },
      "source": [
        "x_train, x_test, y_train, y_test = prepare_data()\n",
        "\n",
        "dl_model_time, dl_model_accuracy = deep_learning_model1(x_train, x_test, y_train, y_test)\n"
      ],
      "execution_count": null,
      "outputs": [
        {
          "output_type": "stream",
          "text": [
            "Epoch 1/50\n",
            "212/212 [==============================] - 1s 1ms/step - loss: 0.6216 - mse: 0.2149 - accuracy: 0.7163\n",
            "Epoch 2/50\n",
            "212/212 [==============================] - 0s 1ms/step - loss: 0.5814 - mse: 0.1961 - accuracy: 0.7265\n",
            "Epoch 3/50\n",
            "212/212 [==============================] - 0s 1ms/step - loss: 0.5624 - mse: 0.1886 - accuracy: 0.7275\n",
            "Epoch 4/50\n",
            "212/212 [==============================] - 0s 1ms/step - loss: 0.5253 - mse: 0.1731 - accuracy: 0.7282\n",
            "Epoch 5/50\n",
            "212/212 [==============================] - 0s 1ms/step - loss: 0.4680 - mse: 0.1487 - accuracy: 0.8030\n",
            "Epoch 6/50\n",
            "212/212 [==============================] - 0s 1ms/step - loss: 0.4053 - mse: 0.1232 - accuracy: 0.8490\n",
            "Epoch 7/50\n",
            "212/212 [==============================] - 0s 1ms/step - loss: 0.3528 - mse: 0.1039 - accuracy: 0.8622\n",
            "Epoch 8/50\n",
            "212/212 [==============================] - 0s 1ms/step - loss: 0.3134 - mse: 0.0909 - accuracy: 0.8734\n",
            "Epoch 9/50\n",
            "212/212 [==============================] - 0s 2ms/step - loss: 0.2841 - mse: 0.0825 - accuracy: 0.8803\n",
            "Epoch 10/50\n",
            "212/212 [==============================] - 0s 1ms/step - loss: 0.2648 - mse: 0.0775 - accuracy: 0.8816\n",
            "Epoch 11/50\n",
            "212/212 [==============================] - 0s 1ms/step - loss: 0.2514 - mse: 0.0741 - accuracy: 0.8839\n",
            "Epoch 12/50\n",
            "212/212 [==============================] - 0s 1ms/step - loss: 0.2425 - mse: 0.0720 - accuracy: 0.8886\n",
            "Epoch 13/50\n",
            "212/212 [==============================] - 0s 1ms/step - loss: 0.2355 - mse: 0.0704 - accuracy: 0.8885\n",
            "Epoch 14/50\n",
            "212/212 [==============================] - 0s 1ms/step - loss: 0.2306 - mse: 0.0693 - accuracy: 0.8931\n",
            "Epoch 15/50\n",
            "212/212 [==============================] - 0s 1ms/step - loss: 0.2266 - mse: 0.0683 - accuracy: 0.8910\n",
            "Epoch 16/50\n",
            "212/212 [==============================] - 0s 1ms/step - loss: 0.2233 - mse: 0.0675 - accuracy: 0.8909\n",
            "Epoch 17/50\n",
            "212/212 [==============================] - 0s 1ms/step - loss: 0.2201 - mse: 0.0666 - accuracy: 0.8926\n",
            "Epoch 18/50\n",
            "212/212 [==============================] - 0s 1ms/step - loss: 0.2171 - mse: 0.0658 - accuracy: 0.8924\n",
            "Epoch 19/50\n",
            "212/212 [==============================] - 0s 1ms/step - loss: 0.2151 - mse: 0.0651 - accuracy: 0.8931\n",
            "Epoch 20/50\n",
            "212/212 [==============================] - 0s 1ms/step - loss: 0.2126 - mse: 0.0644 - accuracy: 0.8935\n",
            "Epoch 21/50\n",
            "212/212 [==============================] - 0s 1ms/step - loss: 0.2107 - mse: 0.0639 - accuracy: 0.8943\n",
            "Epoch 22/50\n",
            "212/212 [==============================] - 0s 1ms/step - loss: 0.2086 - mse: 0.0631 - accuracy: 0.8941\n",
            "Epoch 23/50\n",
            "212/212 [==============================] - 0s 1ms/step - loss: 0.2072 - mse: 0.0627 - accuracy: 0.8966\n",
            "Epoch 24/50\n",
            "212/212 [==============================] - 0s 1ms/step - loss: 0.2051 - mse: 0.0620 - accuracy: 0.8968\n",
            "Epoch 25/50\n",
            "212/212 [==============================] - 0s 1ms/step - loss: 0.2035 - mse: 0.0614 - accuracy: 0.8977\n",
            "Epoch 26/50\n",
            "212/212 [==============================] - 0s 1ms/step - loss: 0.2018 - mse: 0.0609 - accuracy: 0.8982\n",
            "Epoch 27/50\n",
            "212/212 [==============================] - 0s 1ms/step - loss: 0.2005 - mse: 0.0604 - accuracy: 0.8974\n",
            "Epoch 28/50\n",
            "212/212 [==============================] - 0s 1ms/step - loss: 0.1991 - mse: 0.0599 - accuracy: 0.8972\n",
            "Epoch 29/50\n",
            "212/212 [==============================] - 0s 1ms/step - loss: 0.1980 - mse: 0.0595 - accuracy: 0.8977\n",
            "Epoch 30/50\n",
            "212/212 [==============================] - 0s 1ms/step - loss: 0.1962 - mse: 0.0589 - accuracy: 0.8994\n",
            "Epoch 31/50\n",
            "212/212 [==============================] - 0s 1ms/step - loss: 0.1952 - mse: 0.0586 - accuracy: 0.8984\n",
            "Epoch 32/50\n",
            "212/212 [==============================] - 0s 1ms/step - loss: 0.1937 - mse: 0.0581 - accuracy: 0.9000\n",
            "Epoch 33/50\n",
            "212/212 [==============================] - 0s 1ms/step - loss: 0.1927 - mse: 0.0576 - accuracy: 0.8999\n",
            "Epoch 34/50\n",
            "212/212 [==============================] - 0s 1ms/step - loss: 0.1912 - mse: 0.0572 - accuracy: 0.8988\n",
            "Epoch 35/50\n",
            "212/212 [==============================] - 0s 1ms/step - loss: 0.1899 - mse: 0.0568 - accuracy: 0.8997\n",
            "Epoch 36/50\n",
            "212/212 [==============================] - 0s 1ms/step - loss: 0.1885 - mse: 0.0563 - accuracy: 0.9004\n",
            "Epoch 37/50\n",
            "212/212 [==============================] - 0s 1ms/step - loss: 0.1869 - mse: 0.0558 - accuracy: 0.8997\n",
            "Epoch 38/50\n",
            "212/212 [==============================] - 0s 1ms/step - loss: 0.1861 - mse: 0.0556 - accuracy: 0.9004\n",
            "Epoch 39/50\n",
            "212/212 [==============================] - 0s 1ms/step - loss: 0.1851 - mse: 0.0552 - accuracy: 0.8992\n",
            "Epoch 40/50\n",
            "212/212 [==============================] - 0s 2ms/step - loss: 0.1835 - mse: 0.0549 - accuracy: 0.8997\n",
            "Epoch 41/50\n",
            "212/212 [==============================] - 0s 1ms/step - loss: 0.1826 - mse: 0.0546 - accuracy: 0.8991\n",
            "Epoch 42/50\n",
            "212/212 [==============================] - 0s 1ms/step - loss: 0.1813 - mse: 0.0542 - accuracy: 0.8989\n",
            "Epoch 43/50\n",
            "212/212 [==============================] - 0s 1ms/step - loss: 0.1799 - mse: 0.0539 - accuracy: 0.9047\n",
            "Epoch 44/50\n",
            "212/212 [==============================] - 0s 1ms/step - loss: 0.1786 - mse: 0.0535 - accuracy: 0.9037\n",
            "Epoch 45/50\n",
            "212/212 [==============================] - 0s 1ms/step - loss: 0.1777 - mse: 0.0533 - accuracy: 0.9045\n",
            "Epoch 46/50\n",
            "212/212 [==============================] - 0s 1ms/step - loss: 0.1763 - mse: 0.0529 - accuracy: 0.9052\n",
            "Epoch 47/50\n",
            "212/212 [==============================] - 0s 1ms/step - loss: 0.1755 - mse: 0.0527 - accuracy: 0.9056\n",
            "Epoch 48/50\n",
            "212/212 [==============================] - 0s 1ms/step - loss: 0.1742 - mse: 0.0524 - accuracy: 0.9054\n",
            "Epoch 49/50\n",
            "212/212 [==============================] - 0s 1ms/step - loss: 0.1727 - mse: 0.0520 - accuracy: 0.9051\n",
            "Epoch 50/50\n",
            "212/212 [==============================] - 0s 1ms/step - loss: 0.1719 - mse: 0.0517 - accuracy: 0.9068\n",
            "### Deep Learning Model ###\n",
            "\n",
            "Training lasted 15.65 seconds\n",
            "Accuracy = 89.54\n"
          ],
          "name": "stdout"
        }
      ]
    },
    {
      "cell_type": "code",
      "metadata": {
        "id": "aZYPyjOxJTxw"
      },
      "source": [
        "def support_vector_machine(train_x, test_x, train_y, test_y):\n",
        "    \"\"\"\n",
        "    This function performs classification with support vector machine\n",
        "    \"\"\"\n",
        "    train_y = train_y.reshape((train_y.shape[0], ))\n",
        "  \n",
        "    classifier = SVC(kernel=\"rbf\", C=10, gamma=1)\n",
        "\n",
        "    start = time.time()\n",
        "    classifier.fit(train_x, train_y)\n",
        "    end = time.time()\n",
        "\n",
        "    y_pred = classifier.predict(test_x)\n",
        "\n",
        "    time_ = end - start\n",
        "    accuracy = 100 * accuracy_score(test_y, y_pred)\n",
        "    \n",
        "    print(\"### SVM ###\\n\")\n",
        "    print(\"Training lasted %.2f seconds\" % time_)\n",
        "    print(\"For C : \", 10, \", Gamma: \", 1, \", kernel = rbf\",\n",
        "          \" => Accuracy = %.2f\" % (accuracy))\n",
        "        \n",
        "    return(time_, accuracy)\n"
      ],
      "execution_count": null,
      "outputs": []
    },
    {
      "cell_type": "code",
      "metadata": {
        "colab": {
          "base_uri": "https://localhost:8080/"
        },
        "id": "Jx9R24aaLwsr",
        "outputId": "57b86ae6-0d71-4392-ac92-83d8755a983f"
      },
      "source": [
        "svm_time, svm_accuracy = support_vector_machine(x_train, x_test, y_train, y_test)\n",
        "\n",
        "print(x_train.shape)\n",
        "print(y_train.shape)\n",
        "print(x_test.shape)\n",
        "print(y_test.shape)"
      ],
      "execution_count": null,
      "outputs": [
        {
          "output_type": "stream",
          "text": [
            "### SVM ###\n",
            "\n",
            "Training lasted 0.21 seconds\n",
            "For C :  10 , Gamma:  1 , kernel = rbf  => Accuracy = 77.31\n",
            "(2118, 25)\n",
            "(2118, 1)\n",
            "(908, 25)\n",
            "(908, 1)\n"
          ],
          "name": "stdout"
        }
      ]
    },
    {
      "cell_type": "code",
      "metadata": {
        "id": "h5AOs9EdNgLj"
      },
      "source": [
        "def logistic_regression(train_x, test_x, train_y, test_y):\n",
        "    \"\"\"\n",
        "    This function performs classification with logistic regression.\n",
        "    \"\"\"\n",
        "    train_y = train_y.reshape((train_y.shape[0], ))\n",
        "\n",
        "    clf = LogisticRegression(random_state=0, solver='liblinear', max_iter=300,\n",
        "                             multi_class='ovr')\n",
        "    start = time.time()\n",
        "    clf.fit(train_x, train_y)\n",
        "    end = time.time()\n",
        "    \n",
        "    y_pred = clf.predict(test_x)\n",
        "\n",
        "    time_ = end - start\n",
        "    accuracy = 100 * accuracy_score(test_y, y_pred)\n",
        "\n",
        "    print(\"### LR ###\\n\")\n",
        "    print(\"Training lasted %.2f seconds\" % time_)\n",
        "    print(\"Accuracy = %.2f\" % (accuracy))\n",
        "\n",
        "    return(time_, accuracy)"
      ],
      "execution_count": null,
      "outputs": []
    },
    {
      "cell_type": "code",
      "metadata": {
        "colab": {
          "base_uri": "https://localhost:8080/"
        },
        "id": "kFqU35UYQS0o",
        "outputId": "b42cc75f-56ff-4cfd-cf38-adb8b8d0a279"
      },
      "source": [
        "lr_time, lr_accuracy = logistic_regression(x_train, x_test, y_train, y_test)"
      ],
      "execution_count": null,
      "outputs": [
        {
          "output_type": "stream",
          "text": [
            "### LR ###\n",
            "\n",
            "Training lasted 0.01 seconds\n",
            "Accuracy = 71.81\n"
          ],
          "name": "stdout"
        }
      ]
    },
    {
      "cell_type": "code",
      "metadata": {
        "id": "T4TBi99FdI3r"
      },
      "source": [
        "def gradient_boosting(train_x, test_x, train_y, test_y):\n",
        "  \"\"\"\n",
        "  This function performs classification with Gradient Boosting.\n",
        "  \"\"\"\n",
        "  train_y = train_y.reshape((train_y.shape[0], ))\n",
        "      \n",
        "  clf = GradientBoostingClassifier(learning_rate=0.1, n_estimators=75)\n",
        "\n",
        "  start = time.time()\n",
        "  clf.fit(train_x, train_y)    \n",
        "  end = time.time()\n",
        "\n",
        "  y_pred = clf.predict(test_x)\n",
        "\n",
        "  time_ = end - start\n",
        "  accuracy = 100 * accuracy_score(test_y, y_pred)\n",
        "\n",
        "  print(\"### GB ###\\n\")\n",
        "  print(\"Training lasted %.2f seconds\" % time_)\n",
        "  print(\"Accuracy = %.2f\" % (accuracy))\n",
        "\n",
        "  return(time_, accuracy)\n"
      ],
      "execution_count": null,
      "outputs": []
    },
    {
      "cell_type": "code",
      "metadata": {
        "colab": {
          "base_uri": "https://localhost:8080/"
        },
        "id": "hXJioXkqebm2",
        "outputId": "67c656cf-0978-4441-8c7f-e8c65ecf419a"
      },
      "source": [
        "grad_time, grad_accuracy = gradient_boosting(x_train, x_test, y_train, y_test)"
      ],
      "execution_count": null,
      "outputs": [
        {
          "output_type": "stream",
          "text": [
            "### GB ###\n",
            "\n",
            "Training lasted 0.15 seconds\n",
            "Accuracy = 99.56\n"
          ],
          "name": "stdout"
        }
      ]
    },
    {
      "cell_type": "code",
      "metadata": {
        "id": "LbntWPoBe5IL"
      },
      "source": [
        "def k_neighbors(train_x, test_x, train_y, test_y):\n",
        "  \"\"\"\n",
        "  This function performs classification with k neighbors algorithm.\n",
        "  \"\"\"\n",
        "  train_y = train_y.reshape((train_y.shape[0], ))\n",
        "        \n",
        "  clf = KNeighborsClassifier(n_neighbors=3)\n",
        "  \n",
        "  start = time.time()\n",
        "  clf.fit(train_x, train_y)\n",
        "  end = time.time()\n",
        "\n",
        "  y_pred = clf.predict(test_x)\n",
        "\n",
        "  time_ = end - start\n",
        "  accuracy = 100 * accuracy_score(test_y, y_pred)\n",
        "\n",
        "  print(\"### KNN ###\\n\")\n",
        "  print(\"Training lasted %.2f seconds\" % time_)\n",
        "  print(\"Accuracy = %.2f\" % (accuracy))\n",
        "\n",
        "  return(time_, accuracy)\n"
      ],
      "execution_count": null,
      "outputs": []
    },
    {
      "cell_type": "code",
      "metadata": {
        "colab": {
          "base_uri": "https://localhost:8080/"
        },
        "id": "scKMtTh5fLdE",
        "outputId": "381148a0-efe1-4b51-eccc-3c93fd3a7cfa"
      },
      "source": [
        "knn_time, knn_accuracy = k_neighbors(x_train, x_test, y_train, y_test)"
      ],
      "execution_count": null,
      "outputs": [
        {
          "output_type": "stream",
          "text": [
            "### KNN ###\n",
            "\n",
            "Training lasted 0.02 seconds\n",
            "Accuracy = 99.45\n"
          ],
          "name": "stdout"
        }
      ]
    },
    {
      "cell_type": "code",
      "metadata": {
        "id": "ukPCTOMlfSIU"
      },
      "source": [
        "def random_forest(train_x, test_x, train_y, test_y):\n",
        "  \"\"\"\n",
        "  This function performs classification with random forest.\n",
        "  \"\"\"\n",
        "  train_y = train_y.reshape((train_y.shape[0], ))\n",
        "      \n",
        "  clf = RandomForestClassifier(n_estimators=5, max_depth=5, random_state=1)\n",
        "  \n",
        "  start = time.time()\n",
        "  clf.fit(train_x, train_y)    \n",
        "  end = time.time()\n",
        "\n",
        "  y_pred = clf.predict(test_x)\n",
        "\n",
        "  time_ = end - start\n",
        "  accuracy = 100 * accuracy_score(test_y, y_pred)\n",
        "\n",
        "  print(\"### RF ###\\n\")\n",
        "  print(\"Training lasted %.2f seconds\" % time_)\n",
        "  print(\"Accuracy = %.2f\" % (accuracy))\n",
        "#print(\"F1-score = \",f1_score(test_y, y_pred, average='macro')*100)\n",
        "\n",
        "  return(time_, accuracy)"
      ],
      "execution_count": null,
      "outputs": []
    },
    {
      "cell_type": "code",
      "metadata": {
        "colab": {
          "base_uri": "https://localhost:8080/"
        },
        "id": "Up-9jkUkfP2m",
        "outputId": "edcc859e-0b20-45b3-f211-bff32663c34a"
      },
      "source": [
        "rf_time, rf_accuracy = random_forest(x_train, x_test, y_train, y_test)"
      ],
      "execution_count": null,
      "outputs": [
        {
          "output_type": "stream",
          "text": [
            "### RF ###\n",
            "\n",
            "Training lasted 0.02 seconds\n",
            "Accuracy = 99.01\n"
          ],
          "name": "stdout"
        }
      ]
    },
    {
      "cell_type": "code",
      "metadata": {
        "colab": {
          "base_uri": "https://localhost:8080/",
          "height": 667
        },
        "id": "T4xNcfTENF7P",
        "outputId": "669a4e9e-a3ad-4e4f-f24d-ccafc9a94de6"
      },
      "source": [
        "accuracy = [svm_accuracy, rf_accuracy, dl_model_accuracy, grad_accuracy,\n",
        "            knn_accuracy, lr_accuracy]\n",
        "time_ = [svm_time, rf_time, dl_model_time, grad_time, knn_time, lr_time]\n",
        "\n",
        "plt.ylim(0, 100)\n",
        "plt.xlabel(\"accuracy \")\n",
        "plt.title(\"Comparison of permormance\")\n",
        "l1, l2, l3, l4, l5, l6 = plt.bar([\"SVM-acc\", \"RF-acc\", \"dl_model-acc\",\n",
        "                                            \"GB-acc\", \"K-acc\", \"lr-acc\"],\n",
        "                                            accuracy)\n",
        "\n",
        "plt.xticks(rotation=45)\n",
        "\n",
        "l1.set_facecolor('r')\n",
        "l2.set_facecolor('r')\n",
        "l3.set_facecolor('r')\n",
        "l4.set_facecolor('r')\n",
        "l5.set_facecolor('r')\n",
        "l6.set_facecolor('r')\n",
        "\n",
        "plt.show()\n",
        "plt.close('all')\n",
        "plt.ylim(0, 10)\n",
        "plt.xlabel(\"execution time\")\n",
        "plt.title(\"Comparison of permormance\")\n",
        "c1, c2, c3, c4, c5, c6 = plt.bar([\"SVM-time\", \"RF-time\", \"dl_model-time\",\n",
        "                                            \"GB-time\", \"K-time\", \"log-time\"],\n",
        "                                            time_)\n",
        "c1.set_facecolor('b')\n",
        "c2.set_facecolor('b')\n",
        "c3.set_facecolor('b')\n",
        "c4.set_facecolor('b')\n",
        "c5.set_facecolor('b')\n",
        "c6.set_facecolor('b')\n",
        "plt.xticks(rotation=45)\n",
        "plt.show()        \n",
        "\n"
      ],
      "execution_count": null,
      "outputs": [
        {
          "output_type": "display_data",
          "data": {
            "image/png": "[encoded data removed]",
            "text/plain": [
              "<Figure size 432x288 with 1 Axes>"
            ]
          },
          "metadata": {
            "tags": [],
            "needs_background": "light"
          }
        },
        {
          "output_type": "display_data",
          "data": {
            "image/png": "[encoded data removed]",
            "text/plain": [
              "<Figure size 432x288 with 1 Axes>"
            ]
          },
          "metadata": {
            "tags": [],
            "needs_background": "light"
          }
        }
      ]
    },
    {
      "cell_type": "code",
      "metadata": {
        "id": "j38L1mfVgmwd"
      },
      "source": [
        ""
      ],
      "execution_count": null,
      "outputs": []
    }
  ]
}